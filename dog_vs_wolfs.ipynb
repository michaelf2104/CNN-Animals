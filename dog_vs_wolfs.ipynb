{
 "cells": [
  {
   "cell_type": "markdown",
   "id": "a1ed95c4-14e6-443d-a839-3145dc0dc15f",
   "metadata": {
    "tags": []
   },
   "source": [
    "# Automated dog door "
   ]
  },
  {
   "cell_type": "markdown",
   "id": "3d5f426e-dd18-49e0-8d2d-c51dd916a5d0",
   "metadata": {},
   "source": [
    "### This program handles an automated door for a dog shelter, that opens an automated door, once a dog wants to go inside. If a wolf tries to sneak into the shelter, the door shall not open."
   ]
  },
  {
   "cell_type": "markdown",
   "id": "d32b2f21-7861-4e8f-9473-0e1f43e36b59",
   "metadata": {},
   "source": [
    "## Loading a pre-trained model"
   ]
  },
  {
   "cell_type": "code",
   "execution_count": null,
   "id": "07bd1b84-4577-4c4f-a96c-d5717ded4445",
   "metadata": {},
   "outputs": [],
   "source": [
    "from tensorflow.keras.applications import VGG16\n",
    "\n",
    "my_model =  VGG16(weights=\"imagenet\")\n",
    "\n",
    "# 'weights=\"imagenet\"' - initialize the model with pre-trained weights from the ImageNet-dataset"
   ]
  },
  {
   "cell_type": "code",
   "execution_count": null,
   "id": "2c90696d-432c-4ef8-b456-e29c02eed4a3",
   "metadata": {},
   "outputs": [],
   "source": [
    "# get stats of the model\n",
    "my_model.summary()"
   ]
  },
  {
   "cell_type": "markdown",
   "id": "6fbd5582",
   "metadata": {},
   "source": [
    "###### note, that the model expects input-shapes of (224, 224, 3) and has an output layer with 1000 categories d"
   ]
  },
  {
   "cell_type": "markdown",
   "id": "b2e51816-acf9-44cd-9217-1b5d074e4cc3",
   "metadata": {},
   "source": [
    "<br>\n",
    "</br>"
   ]
  },
  {
   "cell_type": "markdown",
   "id": "c49cf310-656b-4aa1-8630-7326d89cf735",
   "metadata": {},
   "source": [
    "## Loading an image"
   ]
  },
  {
   "cell_type": "code",
   "execution_count": null,
   "id": "fed8a0f1-facf-4ac2-b81a-a950ace2eb62",
   "metadata": {},
   "outputs": [],
   "source": [
    "import matplotlib.pyplot as plt\n",
    "import matplotlib.image as mpimg\n",
    "\n",
    "def image_viewer(path):\n",
    "    image = mpimg.imread(path)\n",
    "    plt.imshow(image)\n",
    "    \n",
    "def image_shape(path):\n",
    "    image = mpimg.imread(path)\n",
    "    return(image.shape)"
   ]
  },
  {
   "cell_type": "code",
   "execution_count": null,
   "id": "eff731f4-ba1a-4f20-bd30-b3a5bf809540",
   "metadata": {},
   "outputs": [],
   "source": [
    "image_viewer(\"data/valid/wolf/Img-11807.jpg\")\n",
    "             "
   ]
  },
  {
   "cell_type": "markdown",
   "id": "87c005e0-c599-49a5-89b9-e4fb5353cfc4",
   "metadata": {},
   "source": [
    "<br>\n",
    "</br>"
   ]
  },
  {
   "cell_type": "markdown",
   "id": "01e981e9-bdd1-49a6-b03e-55118cf75574",
   "metadata": {},
   "source": [
    "### Since the model expects an input shape of (224, 224, 3) and returns a prediction of shape 1000, it is necessary to adjust the inputs shape of our images "
   ]
  },
  {
   "cell_type": "code",
   "execution_count": null,
   "id": "94b0e7f4-1181-445d-9543-fde8d7355c42",
   "metadata": {},
   "outputs": [],
   "source": [
    "# preprocessing the images\n",
    "\n",
    "from tensorflow.keras.preprocessing import image as image_utils\n",
    "from tensorflow.keras.applications.vgg16 import preprocess_input\n",
    "\n",
    "def process_image_data(path):\n",
    "    print(\"Old shape: \", image_shape(path))\n",
    "    image = image_utils.load_img(path, target_size=(224,224))\n",
    "    image = image_utils.img_to_array(image)\n",
    "    image = image.reshape(1, 224, 224, 3)\n",
    "    image = preprocess_input(image)\n",
    "    print(\"New shape: \", image.shape)\n",
    "    return image"
   ]
  },
  {
   "cell_type": "code",
   "execution_count": null,
   "id": "7238283e-7b71-4409-934c-c3ac55e40f6d",
   "metadata": {},
   "outputs": [],
   "source": [
    "processed_image = process_image_data(\"data/valid/wolf/Img-11807.jpg\")"
   ]
  },
  {
   "cell_type": "markdown",
   "id": "8d7d25a7-514d-4cf3-a84f-de708795954f",
   "metadata": {},
   "source": [
    "<br>\n",
    "</br>"
   ]
  },
  {
   "cell_type": "markdown",
   "id": "475592d8-4b1f-49ac-a620-2134d764d517",
   "metadata": {},
   "source": [
    "## Predict images"
   ]
  },
  {
   "cell_type": "code",
   "execution_count": null,
   "id": "b123f4b2-2d2a-4dd0-8c25-cde9d99b7db4",
   "metadata": {},
   "outputs": [],
   "source": [
    "from tensorflow.keras.applications.vgg16 import decode_predictions\n",
    "\n",
    "def prediction(path):\n",
    "    image_viewer(path)\n",
    "    image = process_image_data(path)\n",
    "    predictions = my_model.predict(image)\n",
    "    print(\"Predicted:\", decode_predictions(predictions, top=3))"
   ]
  },
  {
   "cell_type": "code",
   "execution_count": null,
   "id": "bb07f79e-2c91-47bb-9e91-a8bb7ce2ba81",
   "metadata": {},
   "outputs": [],
   "source": [
    "prediction(\"data/valid/wolf/Img-11929.jpg\")"
   ]
  },
  {
   "cell_type": "code",
   "execution_count": null,
   "id": "1af7a820-56d7-42f9-a618-ccfdb130627b",
   "metadata": {},
   "outputs": [],
   "source": [
    "prediction(\"data/valid/wolf/Img-12436.jpg\")"
   ]
  },
  {
   "cell_type": "code",
   "execution_count": null,
   "id": "6eeb7858-65b5-4b90-93f7-973ebbe9cf1b",
   "metadata": {},
   "outputs": [],
   "source": [
    "prediction(\"data/valid/dog/n02107683_4515.jpg\")"
   ]
  },
  {
   "cell_type": "markdown",
   "id": "033e54d3-3e95-46ef-9be9-b9be79984efa",
   "metadata": {},
   "source": [
    "<br>\n",
    "</br>"
   ]
  },
  {
   "cell_type": "markdown",
   "id": "90586352-582a-4b7f-95f5-476f7c9fd7ca",
   "metadata": {},
   "source": [
    "# Only dogs"
   ]
  },
  {
   "cell_type": "markdown",
   "id": "42a4b7f1-31cd-4a73-b514-ff97230a7545",
   "metadata": {},
   "source": [
    "#### since the door should only let dogs enter the shelter, it is necessary to categorize them. Dogs are categories 151 through 268 in the VGG16 pre-trained-model "
   ]
  },
  {
   "cell_type": "code",
   "execution_count": null,
   "id": "65e6e053-44b7-4c3f-b261-8d68267cfade",
   "metadata": {},
   "outputs": [],
   "source": [
    "import numpy as np\n",
    "\n",
    "def predict_wolf_or_dog(path):\n",
    "    image = process_image_data(path)\n",
    "    prediction = my_model.predict(image)\n",
    "    image_viewer(path)\n",
    "    image = process_image_data(path)\n",
    "    predictions = my_model.predict(image)\n",
    "    print(\"Predicted:\", decode_predictions(predictions, top=3))\n",
    "    if 151 >= np.argmax(prediction) <= 268:\n",
    "        print(\"Dog detected, proceed to open door\")\n",
    "    else:\n",
    "        print(\"Not a dog, door shall stay shut\")"
   ]
  },
  {
   "cell_type": "code",
   "execution_count": null,
   "id": "266302ef-4941-420b-9529-3e0ddd118275",
   "metadata": {},
   "outputs": [],
   "source": [
    "predict_wolf_or_dog(\"data/valid/wolf/Img-12436.jpg\")"
   ]
  },
  {
   "cell_type": "markdown",
   "id": "ced39d8f",
   "metadata": {},
   "source": [
    "<br>\n",
    "</br>"
   ]
  },
  {
   "cell_type": "markdown",
   "id": "bb6559f6",
   "metadata": {},
   "source": [
    "### now, the model works for the expected topic mentioned in the beginning. "
   ]
  }
 ],
 "metadata": {
  "kernelspec": {
   "display_name": "Python 3 (ipykernel)",
   "language": "python",
   "name": "python3"
  },
  "language_info": {
   "codemirror_mode": {
    "name": "ipython",
    "version": 3
   },
   "file_extension": ".py",
   "mimetype": "text/x-python",
   "name": "python",
   "nbconvert_exporter": "python",
   "pygments_lexer": "ipython3",
   "version": "3.9.0"
  }
 },
 "nbformat": 4,
 "nbformat_minor": 5
}
